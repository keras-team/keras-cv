{
 "nbformat": 4,
 "nbformat_minor": 0,
 "metadata": {
  "accelerator": "GPU",
  "colab": {
   "name": "GenerateSamples.ipynb",
   "provenance": [],
   "collapsed_sections": [],
   "toc_visible": true
  },
  "kernelspec": {
   "display_name": "Python 3",
   "language": "python",
   "name": "python3"
  }
 },
 "cells": [
  {
   "cell_type": "markdown",
   "metadata": {
    "id": "WUUY3nfRX7VF"
   },
   "source": [
    "# Setup"
   ]
  },
  {
   "cell_type": "code",
   "metadata": {
    "colab": {
     "base_uri": "https://localhost:8080/"
    },
    "id": "n69M1y5bTDa_",
    "outputId": "cfdb76d7-ff82-4022-cf3b-7a4e7695c6ee"
   },
   "source": [
    "!pip install 'git+https://github.com/cocodataset/cocoapi.git#subdirectory=PythonAPI'"
   ],
   "execution_count": 1,
   "outputs": [
    {
     "output_type": "stream",
     "name": "stdout",
     "text": [
      "Collecting git+https://github.com/cocodataset/cocoapi.git#subdirectory=PythonAPI\n",
      "  Cloning https://github.com/cocodataset/cocoapi.git to /tmp/pip-req-build-v63g3kxy\n",
      "  Running command git clone -q https://github.com/cocodataset/cocoapi.git /tmp/pip-req-build-v63g3kxy\n",
      "Requirement already satisfied: setuptools>=18.0 in /usr/local/lib/python3.7/dist-packages (from pycocotools==2.0) (57.4.0)\n",
      "Requirement already satisfied: cython>=0.27.3 in /usr/local/lib/python3.7/dist-packages (from pycocotools==2.0) (0.29.24)\n",
      "Requirement already satisfied: matplotlib>=2.1.0 in /usr/local/lib/python3.7/dist-packages (from pycocotools==2.0) (3.2.2)\n",
      "Requirement already satisfied: pyparsing!=2.0.4,!=2.1.2,!=2.1.6,>=2.0.1 in /usr/local/lib/python3.7/dist-packages (from matplotlib>=2.1.0->pycocotools==2.0) (3.0.6)\n",
      "Requirement already satisfied: python-dateutil>=2.1 in /usr/local/lib/python3.7/dist-packages (from matplotlib>=2.1.0->pycocotools==2.0) (2.8.2)\n",
      "Requirement already satisfied: numpy>=1.11 in /usr/local/lib/python3.7/dist-packages (from matplotlib>=2.1.0->pycocotools==2.0) (1.19.5)\n",
      "Requirement already satisfied: cycler>=0.10 in /usr/local/lib/python3.7/dist-packages (from matplotlib>=2.1.0->pycocotools==2.0) (0.11.0)\n",
      "Requirement already satisfied: kiwisolver>=1.0.1 in /usr/local/lib/python3.7/dist-packages (from matplotlib>=2.1.0->pycocotools==2.0) (1.3.2)\n",
      "Requirement already satisfied: six>=1.5 in /usr/local/lib/python3.7/dist-packages (from python-dateutil>=2.1->matplotlib>=2.1.0->pycocotools==2.0) (1.15.0)\n",
      "Building wheels for collected packages: pycocotools\n",
      "  Building wheel for pycocotools (setup.py) ... \u001b[?25l\u001b[?25hdone\n",
      "  Created wheel for pycocotools: filename=pycocotools-2.0-cp37-cp37m-linux_x86_64.whl size=263921 sha256=074b4c6db75f73953a705eab5e2ddcd2bc50f14a1baa288a0ffe80f6aba91f0a\n",
      "  Stored in directory: /tmp/pip-ephem-wheel-cache-_88ll_l6/wheels/e2/6b/1d/344ac773c7495ea0b85eb228bc66daec7400a143a92d36b7b1\n",
      "Successfully built pycocotools\n",
      "Installing collected packages: pycocotools\n",
      "  Attempting uninstall: pycocotools\n",
      "    Found existing installation: pycocotools 2.0.3\n",
      "    Uninstalling pycocotools-2.0.3:\n",
      "      Successfully uninstalled pycocotools-2.0.3\n",
      "Successfully installed pycocotools-2.0\n"
     ]
    }
   ]
  },
  {
   "cell_type": "markdown",
   "metadata": {
    "id": "MimODgLKTHsr"
   },
   "source": [
    "# Load Ground Truths"
   ]
  },
  {
   "cell_type": "code",
   "metadata": {
    "colab": {
     "base_uri": "https://localhost:8080/"
    },
    "id": "_-3H1wHxOgK1",
    "outputId": "72857e3e-4a34-47fc-cf71-a3f217c0674f"
   },
   "source": [
    "!wget http://images.cocodataset.org/annotations/annotations_trainval2017.zip\n",
    "!unzip annotations_trainval2017.zip"
   ],
   "execution_count": 2,
   "outputs": [
    {
     "output_type": "stream",
     "name": "stdout",
     "text": [
      "--2021-12-04 00:29:29--  http://images.cocodataset.org/annotations/annotations_trainval2017.zip\n",
      "Resolving images.cocodataset.org (images.cocodataset.org)... 52.217.129.209\n",
      "Connecting to images.cocodataset.org (images.cocodataset.org)|52.217.129.209|:80... connected.\n",
      "HTTP request sent, awaiting response... 200 OK\n",
      "Length: 252907541 (241M) [application/zip]\n",
      "Saving to: ‘annotations_trainval2017.zip’\n",
      "\n",
      "annotations_trainva 100%[===================>] 241.19M  34.1MB/s    in 7.6s    \n",
      "\n",
      "2021-12-04 00:29:37 (31.8 MB/s) - ‘annotations_trainval2017.zip’ saved [252907541/252907541]\n",
      "\n",
      "Archive:  annotations_trainval2017.zip\n",
      "  inflating: annotations/instances_train2017.json  \n",
      "  inflating: annotations/instances_val2017.json  \n",
      "  inflating: annotations/captions_train2017.json  \n",
      "  inflating: annotations/captions_val2017.json  \n",
      "  inflating: annotations/person_keypoints_train2017.json  \n",
      "  inflating: annotations/person_keypoints_val2017.json  \n"
     ]
    }
   ]
  },
  {
   "cell_type": "code",
   "metadata": {
    "id": "sZUNps8-QU28"
   },
   "source": [
    "import json\n",
    "\n",
    "with open(\"./annotations/instances_val2017.json\", \"r\") as f:\n",
    "    ground_truths = json.load(f)"
   ],
   "execution_count": 3,
   "outputs": []
  },
  {
   "cell_type": "code",
   "metadata": {
    "id": "D4i9jPDkYj8r"
   },
   "source": [
    "img_ids = [gt[\"image_id\"] for gt in ground_truths[\"annotations\"]][:10]"
   ],
   "execution_count": 4,
   "outputs": []
  },
  {
   "cell_type": "code",
   "metadata": {
    "id": "nsRkZ1gsW8Nw"
   },
   "source": [
    "ground_truths[\"annotations\"] = [\n",
    "    gt for gt in ground_truths[\"annotations\"] if gt[\"image_id\"] in img_ids\n",
    "]"
   ],
   "execution_count": 5,
   "outputs": []
  },
  {
   "cell_type": "code",
   "metadata": {
    "id": "PUf0_UjtXGXz"
   },
   "source": [
    "with open(\"mutated_ground_truths.json\", \"w\") as f:\n",
    "    json.dump(ground_truths, f)"
   ],
   "execution_count": 6,
   "outputs": []
  },
  {
   "cell_type": "code",
   "metadata": {
    "id": "438lQrfYVo93"
   },
   "source": [
    "import random\n",
    "\n",
    "\n",
    "def mutate_bounding_box(bounding_box):\n",
    "    def shift(x, xw):\n",
    "        return xw * random.uniform(-1, 1) + x\n",
    "\n",
    "    return [\n",
    "        shift(bounding_box[0], bounding_box[2] / 10),\n",
    "        shift(bounding_box[1], bounding_box[3] / 10),\n",
    "        random.uniform(0.9, 1.1) * bounding_box[2],\n",
    "        random.uniform(0.9, 1.1) * bounding_box[3],\n",
    "    ]\n",
    "\n",
    "\n",
    "results = []\n",
    "for gt in [\n",
    "    gt for gt in ground_truths[\"annotations\"] if gt[\"image_id\"] in img_ids\n",
    "]:\n",
    "    result = {\n",
    "        \"image_id\": gt[\"image_id\"],\n",
    "        \"area\": gt[\"area\"],\n",
    "        \"bounding_box\": mutate_bounding_box(gt[\"bounding_box\"]),\n",
    "        \"id\": gt[\"id\"],\n",
    "        \"category_id\": gt[\"category_id\"],\n",
    "        \"score\": random.uniform(0, 1),\n",
    "    }\n",
    "    results.append(result)\n",
    "\n",
    "with open(\"coco_results.json\", \"w\") as f:\n",
    "    json.dump(results, f)"
   ],
   "execution_count": 7,
   "outputs": []
  },
  {
   "cell_type": "code",
   "metadata": {
    "colab": {
     "base_uri": "https://localhost:8080/"
    },
    "id": "pRnBL4lCOkey",
    "outputId": "4b9a49d1-9acd-4a1d-84b1-8f07f6efc7d4"
   },
   "source": [
    "from pycocotools.coco import COCO\n",
    "from pycocotools.cocoeval import COCOeval\n",
    "\n",
    "with open(\"coco_results.json\", \"r\") as f:\n",
    "    results = json.load(f)\n",
    "coco = COCO(\"./mutated_ground_truths.json\")\n",
    "ret = {}\n",
    "\n",
    "cocoDt = coco.loadRes(results)\n",
    "cocoEval = COCOeval(coco, cocoDt, \"bounding_box\")\n",
    "cocoEval.evaluate()\n",
    "cocoEval.accumulate()\n",
    "cocoEval.summarize()"
   ],
   "execution_count": 8,
   "outputs": [
    {
     "output_type": "stream",
     "name": "stdout",
     "text": [
      "loading annotations into memory...\n",
      "Done (t=0.01s)\n",
      "creating index...\n",
      "index created!\n",
      "Loading and preparing results...\n",
      "DONE (t=0.00s)\n",
      "creating index...\n",
      "index created!\n",
      "Running per image evaluation...\n",
      "Evaluate annotation type *bounding_box*\n",
      "DONE (t=5.57s).\n",
      "Accumulating evaluation results...\n",
      "DONE (t=1.68s).\n",
      " Average Precision  (AP) @[ IoU=0.50:0.95 | area=   all | maxDets=100 ] = 0.661\n",
      " Average Precision  (AP) @[ IoU=0.50      | area=   all | maxDets=100 ] = 1.000\n",
      " Average Precision  (AP) @[ IoU=0.75      | area=   all | maxDets=100 ] = 0.793\n",
      " Average Precision  (AP) @[ IoU=0.50:0.95 | area= small | maxDets=100 ] = 0.651\n",
      " Average Precision  (AP) @[ IoU=0.50:0.95 | area=medium | maxDets=100 ] = 0.676\n",
      " Average Precision  (AP) @[ IoU=0.50:0.95 | area= large | maxDets=100 ] = 0.671\n",
      " Average Recall     (AR) @[ IoU=0.50:0.95 | area=   all | maxDets=  1 ] = 0.504\n",
      " Average Recall     (AR) @[ IoU=0.50:0.95 | area=   all | maxDets= 10 ] = 0.686\n",
      " Average Recall     (AR) @[ IoU=0.50:0.95 | area=   all | maxDets=100 ] = 0.686\n",
      " Average Recall     (AR) @[ IoU=0.50:0.95 | area= small | maxDets=100 ] = 0.674\n",
      " Average Recall     (AR) @[ IoU=0.50:0.95 | area=medium | maxDets=100 ] = 0.681\n",
      " Average Recall     (AR) @[ IoU=0.50:0.95 | area= large | maxDets=100 ] = 0.682\n"
     ]
    }
   ]
  },
  {
   "cell_type": "markdown",
   "metadata": {
    "id": "_8rKJCZFYwqE"
   },
   "source": [
    "# Creating y_true, y_pred"
   ]
  },
  {
   "cell_type": "code",
   "metadata": {
    "colab": {
     "base_uri": "https://localhost:8080/"
    },
    "id": "b1M8QjMJYyXD",
    "outputId": "69187c86-1429-4764-a726-fa387a2acdf4"
   },
   "source": [
    "import numpy as np\n",
    "from collections import defaultdict\n",
    "\n",
    "num_imgs = len(img_ids)\n",
    "\n",
    "groups = defaultdict(list)\n",
    "\n",
    "for annotation in ground_truths[\"annotations\"]:\n",
    "    img_id = annotation[\"image_id\"]\n",
    "    bounding_box = annotation[\"bounding_box\"]\n",
    "    bounding_box = [x for x in bounding_box] + [int(annotation[\"category_id\"])]\n",
    "    groups[img_id].append(bounding_box)\n",
    "\n",
    "imgs = sorted(groups.keys())\n",
    "\n",
    "result = []\n",
    "for img in imgs:\n",
    "    bounding_boxes = groups[img]\n",
    "    bounding_boxes = np.array(bounding_boxes)\n",
    "    result.append(bounding_boxes)\n",
    "\n",
    "m = max([r.shape[0] for r in result])\n",
    "\n",
    "\n",
    "def to_shape(a, shape):\n",
    "    y_, x_ = shape\n",
    "    y, x = a.shape\n",
    "    y_pad = y_ - y\n",
    "    x_pad = x_ - x\n",
    "    return np.pad(\n",
    "        a, ((0, y_pad), (0, x_pad)), mode=\"constant\", constant_values=-1\n",
    "    )\n",
    "\n",
    "\n",
    "result = [to_shape(r, (m, 5)) for r in result]\n",
    "y_true = np.array(result).astype(float)\n",
    "\n",
    "print(y_true.shape)"
   ],
   "execution_count": 9,
   "outputs": [
    {
     "output_type": "stream",
     "name": "stdout",
     "text": [
      "(10, 25, 5)\n"
     ]
    }
   ]
  },
  {
   "cell_type": "code",
   "metadata": {
    "colab": {
     "base_uri": "https://localhost:8080/"
    },
    "id": "zt5ENbGKbi5e",
    "outputId": "1eda5c37-14ef-4d0c-92e0-47eeb624331b"
   },
   "source": [
    "print(y_true)"
   ],
   "execution_count": 10,
   "outputs": [
    {
     "output_type": "stream",
     "name": "stdout",
     "text": [
      "[[[ 2.7210e+02  2.0023e+02  1.5197e+02  2.7977e+02  1.8000e+01]\n",
      "  [ 1.8123e+02  8.6280e+01  2.7440e+01  7.3530e+01  4.4000e+01]\n",
      "  [ 1.7474e+02  0.0000e+00  2.6104e+02  2.2079e+02  7.0000e+01]\n",
      "  ...\n",
      "  [-1.0000e+00 -1.0000e+00 -1.0000e+00 -1.0000e+00 -1.0000e+00]\n",
      "  [-1.0000e+00 -1.0000e+00 -1.0000e+00 -1.0000e+00 -1.0000e+00]\n",
      "  [-1.0000e+00 -1.0000e+00 -1.0000e+00 -1.0000e+00 -1.0000e+00]]\n",
      "\n",
      " [[ 1.9797e+02  1.1722e+02  1.7045e+02  2.2207e+02  1.8000e+01]\n",
      "  [ 5.8450e+01  8.1690e+01  1.3153e+02  1.2590e+02  6.4000e+01]\n",
      "  [ 9.2900e+00  1.6000e+02  4.6658e+02  3.1484e+02  3.0000e+00]\n",
      "  ...\n",
      "  [-1.0000e+00 -1.0000e+00 -1.0000e+00 -1.0000e+00 -1.0000e+00]\n",
      "  [-1.0000e+00 -1.0000e+00 -1.0000e+00 -1.0000e+00 -1.0000e+00]\n",
      "  [-1.0000e+00 -1.0000e+00 -1.0000e+00 -1.0000e+00 -1.0000e+00]]\n",
      "\n",
      " [[ 4.7307e+02  3.9593e+02  3.8650e+01  2.8670e+01  1.8000e+01]\n",
      "  [ 2.0401e+02  2.3508e+02  6.0840e+01  1.7736e+02  1.0000e+00]\n",
      "  [ 4.3000e-01  4.9979e+02  3.3979e+02  1.0645e+02  1.5000e+01]\n",
      "  ...\n",
      "  [-1.0000e+00 -1.0000e+00 -1.0000e+00 -1.0000e+00 -1.0000e+00]\n",
      "  [-1.0000e+00 -1.0000e+00 -1.0000e+00 -1.0000e+00 -1.0000e+00]\n",
      "  [-1.0000e+00 -1.0000e+00 -1.0000e+00 -1.0000e+00 -1.0000e+00]]\n",
      "\n",
      " ...\n",
      "\n",
      " [[ 1.1271e+02  1.5482e+02  3.6729e+02  4.7935e+02  1.8000e+01]\n",
      "  [-1.0000e+00 -1.0000e+00 -1.0000e+00 -1.0000e+00 -1.0000e+00]\n",
      "  [-1.0000e+00 -1.0000e+00 -1.0000e+00 -1.0000e+00 -1.0000e+00]\n",
      "  ...\n",
      "  [-1.0000e+00 -1.0000e+00 -1.0000e+00 -1.0000e+00 -1.0000e+00]\n",
      "  [-1.0000e+00 -1.0000e+00 -1.0000e+00 -1.0000e+00 -1.0000e+00]\n",
      "  [-1.0000e+00 -1.0000e+00 -1.0000e+00 -1.0000e+00 -1.0000e+00]]\n",
      "\n",
      " [[ 4.2758e+02  7.7870e+01  1.8888e+02  2.8591e+02  1.8000e+01]\n",
      "  [ 4.0399e+02  3.6290e+01  5.9210e+01  2.7506e+02  1.0000e+00]\n",
      "  [ 2.6073e+02  9.6000e-01  1.5376e+02  3.3522e+02  1.0000e+00]\n",
      "  ...\n",
      "  [-1.0000e+00 -1.0000e+00 -1.0000e+00 -1.0000e+00 -1.0000e+00]\n",
      "  [-1.0000e+00 -1.0000e+00 -1.0000e+00 -1.0000e+00 -1.0000e+00]\n",
      "  [-1.0000e+00 -1.0000e+00 -1.0000e+00 -1.0000e+00 -1.0000e+00]]\n",
      "\n",
      " [[ 2.0061e+02  8.9650e+01  4.0022e+02  2.5102e+02  1.8000e+01]\n",
      "  [ 9.4780e+01  9.5000e-01  2.4066e+02  2.1101e+02  1.0000e+00]\n",
      "  [-1.0000e+00 -1.0000e+00 -1.0000e+00 -1.0000e+00 -1.0000e+00]\n",
      "  ...\n",
      "  [-1.0000e+00 -1.0000e+00 -1.0000e+00 -1.0000e+00 -1.0000e+00]\n",
      "  [-1.0000e+00 -1.0000e+00 -1.0000e+00 -1.0000e+00 -1.0000e+00]\n",
      "  [-1.0000e+00 -1.0000e+00 -1.0000e+00 -1.0000e+00 -1.0000e+00]]]\n"
     ]
    }
   ]
  },
  {
   "cell_type": "code",
   "metadata": {
    "colab": {
     "base_uri": "https://localhost:8080/"
    },
    "id": "R3o_ecJab2QC",
    "outputId": "7d2d4633-d5db-481f-d52c-f2bd3cec5b2c"
   },
   "source": [
    "import numpy as np\n",
    "from collections import defaultdict\n",
    "\n",
    "num_imgs = len(img_ids)\n",
    "\n",
    "groups = defaultdict(list)\n",
    "\n",
    "for annotation in results:\n",
    "    img_id = annotation[\"image_id\"]\n",
    "    bounding_box = annotation[\"bounding_box\"]\n",
    "    bounding_box = (\n",
    "        [x for x in bounding_box]\n",
    "        + [int(annotation[\"category_id\"])]\n",
    "        + [annotation[\"score\"]]\n",
    "    )\n",
    "    groups[img_id].append(bounding_box)\n",
    "\n",
    "imgs = sorted(groups.keys())\n",
    "\n",
    "result = []\n",
    "for img in imgs:\n",
    "    bounding_boxes = groups[img]\n",
    "    bounding_boxes = np.array(bounding_boxes)\n",
    "    result.append(bounding_boxes)\n",
    "\n",
    "m = max([r.shape[0] for r in result])\n",
    "\n",
    "\n",
    "def to_shape(a, shape):\n",
    "    y_, x_ = shape\n",
    "    y, x = a.shape\n",
    "    y_pad = y_ - y\n",
    "    x_pad = x_ - x\n",
    "    return np.pad(\n",
    "        a, ((0, y_pad), (0, x_pad)), mode=\"constant\", constant_values=-1\n",
    "    )\n",
    "\n",
    "\n",
    "result = [to_shape(r, (m, 6)) for r in result]\n",
    "y_pred = np.array(result)\n",
    "\n",
    "print(y_pred.shape)"
   ],
   "execution_count": 11,
   "outputs": [
    {
     "output_type": "stream",
     "name": "stdout",
     "text": [
      "(10, 25, 6)\n"
     ]
    }
   ]
  },
  {
   "cell_type": "code",
   "metadata": {
    "colab": {
     "base_uri": "https://localhost:8080/"
    },
    "id": "8JPT8ufgb93o",
    "outputId": "beb2ad3d-ce72-4c6f-e54f-0ccc3f1e091a"
   },
   "source": [
    "print(y_pred)"
   ],
   "execution_count": 12,
   "outputs": [
    {
     "output_type": "stream",
     "name": "stdout",
     "text": [
      "[[[ 2.83170164e+02  1.98574781e+02  1.43679031e+02  2.79637175e+02\n",
      "    1.80000000e+01  8.60476676e-01]\n",
      "  [ 1.78782770e+02  8.57070874e+01  2.57205260e+01  7.17351988e+01\n",
      "    4.40000000e+01  8.67949953e-01]\n",
      "  [ 1.60398593e+02 -1.26983180e+01  2.77554052e+02  2.16501984e+02\n",
      "    7.00000000e+01  9.40993483e-02]\n",
      "  ...\n",
      "  [-1.00000000e+00 -1.00000000e+00 -1.00000000e+00 -1.00000000e+00\n",
      "   -1.00000000e+00 -1.00000000e+00]\n",
      "  [-1.00000000e+00 -1.00000000e+00 -1.00000000e+00 -1.00000000e+00\n",
      "   -1.00000000e+00 -1.00000000e+00]\n",
      "  [-1.00000000e+00 -1.00000000e+00 -1.00000000e+00 -1.00000000e+00\n",
      "   -1.00000000e+00 -1.00000000e+00]]\n",
      "\n",
      " [[ 2.05261670e+02  1.06865086e+02  1.71921347e+02  2.08470932e+02\n",
      "    1.80000000e+01  2.33589777e-02]\n",
      "  [ 5.23691118e+01  7.91802126e+01  1.21694503e+02  1.36141918e+02\n",
      "    6.40000000e+01  8.40724888e-01]\n",
      "  [-2.03978956e+01  1.42724445e+02  4.20246262e+02  2.87332323e+02\n",
      "    3.00000000e+00  1.98790481e-01]\n",
      "  ...\n",
      "  [-1.00000000e+00 -1.00000000e+00 -1.00000000e+00 -1.00000000e+00\n",
      "   -1.00000000e+00 -1.00000000e+00]\n",
      "  [-1.00000000e+00 -1.00000000e+00 -1.00000000e+00 -1.00000000e+00\n",
      "   -1.00000000e+00 -1.00000000e+00]\n",
      "  [-1.00000000e+00 -1.00000000e+00 -1.00000000e+00 -1.00000000e+00\n",
      "   -1.00000000e+00 -1.00000000e+00]]\n",
      "\n",
      " [[ 4.73816425e+02  3.96076460e+02  3.96202463e+01  3.02539300e+01\n",
      "    1.80000000e+01  9.75400366e-01]\n",
      "  [ 1.99351076e+02  2.23320345e+02  6.62929402e+01  1.76467400e+02\n",
      "    1.00000000e+00  4.36806421e-01]\n",
      "  [ 1.44654720e+00  5.03645965e+02  3.35607352e+02  1.08498500e+02\n",
      "    1.50000000e+01  5.83539872e-01]\n",
      "  ...\n",
      "  [-1.00000000e+00 -1.00000000e+00 -1.00000000e+00 -1.00000000e+00\n",
      "   -1.00000000e+00 -1.00000000e+00]\n",
      "  [-1.00000000e+00 -1.00000000e+00 -1.00000000e+00 -1.00000000e+00\n",
      "   -1.00000000e+00 -1.00000000e+00]\n",
      "  [-1.00000000e+00 -1.00000000e+00 -1.00000000e+00 -1.00000000e+00\n",
      "   -1.00000000e+00 -1.00000000e+00]]\n",
      "\n",
      " ...\n",
      "\n",
      " [[ 1.39483163e+02  1.92950396e+02  3.60178555e+02  4.85868966e+02\n",
      "    1.80000000e+01  6.31667579e-01]\n",
      "  [-1.00000000e+00 -1.00000000e+00 -1.00000000e+00 -1.00000000e+00\n",
      "   -1.00000000e+00 -1.00000000e+00]\n",
      "  [-1.00000000e+00 -1.00000000e+00 -1.00000000e+00 -1.00000000e+00\n",
      "   -1.00000000e+00 -1.00000000e+00]\n",
      "  ...\n",
      "  [-1.00000000e+00 -1.00000000e+00 -1.00000000e+00 -1.00000000e+00\n",
      "   -1.00000000e+00 -1.00000000e+00]\n",
      "  [-1.00000000e+00 -1.00000000e+00 -1.00000000e+00 -1.00000000e+00\n",
      "   -1.00000000e+00 -1.00000000e+00]\n",
      "  [-1.00000000e+00 -1.00000000e+00 -1.00000000e+00 -1.00000000e+00\n",
      "   -1.00000000e+00 -1.00000000e+00]]\n",
      "\n",
      " [[ 4.38017342e+02  5.64162895e+01  1.85317987e+02  2.68642244e+02\n",
      "    1.80000000e+01  5.80375785e-01]\n",
      "  [ 4.03716170e+02  5.38656333e+01  6.14525589e+01  2.69501723e+02\n",
      "    1.00000000e+00  3.36547041e-01]\n",
      "  [ 2.66513278e+02 -1.92190604e+01  1.67066764e+02  3.01708478e+02\n",
      "    1.00000000e+00  9.62374629e-01]\n",
      "  ...\n",
      "  [-1.00000000e+00 -1.00000000e+00 -1.00000000e+00 -1.00000000e+00\n",
      "   -1.00000000e+00 -1.00000000e+00]\n",
      "  [-1.00000000e+00 -1.00000000e+00 -1.00000000e+00 -1.00000000e+00\n",
      "   -1.00000000e+00 -1.00000000e+00]\n",
      "  [-1.00000000e+00 -1.00000000e+00 -1.00000000e+00 -1.00000000e+00\n",
      "   -1.00000000e+00 -1.00000000e+00]]\n",
      "\n",
      " [[ 1.72899652e+02  9.76785280e+01  3.80835130e+02  2.66132825e+02\n",
      "    1.80000000e+01  9.64015636e-02]\n",
      "  [ 9.34153287e+01  7.85192516e+00  2.61483759e+02  2.12719816e+02\n",
      "    1.00000000e+00  5.90918860e-01]\n",
      "  [-1.00000000e+00 -1.00000000e+00 -1.00000000e+00 -1.00000000e+00\n",
      "   -1.00000000e+00 -1.00000000e+00]\n",
      "  ...\n",
      "  [-1.00000000e+00 -1.00000000e+00 -1.00000000e+00 -1.00000000e+00\n",
      "   -1.00000000e+00 -1.00000000e+00]\n",
      "  [-1.00000000e+00 -1.00000000e+00 -1.00000000e+00 -1.00000000e+00\n",
      "   -1.00000000e+00 -1.00000000e+00]\n",
      "  [-1.00000000e+00 -1.00000000e+00 -1.00000000e+00 -1.00000000e+00\n",
      "   -1.00000000e+00 -1.00000000e+00]]]\n"
     ]
    }
   ]
  },
  {
   "cell_type": "code",
   "metadata": {
    "id": "O9Sk_LOl2XsR"
   },
   "source": [
    "outfile = \"sample_boxes.npz\"\n",
    "np.savez(outfile, y_true, y_pred)"
   ],
   "execution_count": 13,
   "outputs": []
  },
  {
   "cell_type": "code",
   "metadata": {
    "colab": {
     "base_uri": "https://localhost:8080/",
     "height": 16
    },
    "id": "3FzE5Dzy2ppg",
    "outputId": "0e5573b0-a9ee-4515-95fd-2af0b40c8624"
   },
   "source": [
    "from google.colab import files\n",
    "\n",
    "files.download(outfile)"
   ],
   "execution_count": 15,
   "outputs": [
    {
     "output_type": "display_data",
     "data": {
      "application/javascript": [
       "\n",
       "    async function download(id, filename, size) {\n",
       "      if (!google.colab.kernel.accessAllowed) {\n",
       "        return;\n",
       "      }\n",
       "      const div = document.createElement('div');\n",
       "      const label = document.createElement('label');\n",
       "      label.textContent = `Downloading \"${filename}\": `;\n",
       "      div.appendChild(label);\n",
       "      const progress = document.createElement('progress');\n",
       "      progress.max = size;\n",
       "      div.appendChild(progress);\n",
       "      document.body.appendChild(div);\n",
       "\n",
       "      const buffers = [];\n",
       "      let downloaded = 0;\n",
       "\n",
       "      const channel = await google.colab.kernel.comms.open(id);\n",
       "      // Send a message to notify the kernel that we're ready.\n",
       "      channel.send({})\n",
       "\n",
       "      for await (const message of channel.messages) {\n",
       "        // Send a message to notify the kernel that we're ready.\n",
       "        channel.send({})\n",
       "        if (message.buffers) {\n",
       "          for (const buffer of message.buffers) {\n",
       "            buffers.push(buffer);\n",
       "            downloaded += buffer.byteLength;\n",
       "            progress.value = downloaded;\n",
       "          }\n",
       "        }\n",
       "      }\n",
       "      const blob = new Blob(buffers, {type: 'application/binary'});\n",
       "      const a = document.createElement('a');\n",
       "      a.href = window.URL.createObjectURL(blob);\n",
       "      a.download = filename;\n",
       "      div.appendChild(a);\n",
       "      a.click();\n",
       "      div.remove();\n",
       "    }\n",
       "  "
      ],
      "text/plain": [
       "<IPython.core.display.Javascript object>"
      ]
     },
     "metadata": {}
    },
    {
     "output_type": "display_data",
     "data": {
      "application/javascript": [
       "download(\"download_664f2b3d-1603-4f33-9434-db321fbf4134\", \"sample_boxes.npz\", 22506)"
      ],
      "text/plain": [
       "<IPython.core.display.Javascript object>"
      ]
     },
     "metadata": {}
    }
   ]
  }
 ]
}